{
  "nbformat": 4,
  "nbformat_minor": 0,
  "metadata": {
    "colab": {
      "provenance": [],
      "authorship_tag": "ABX9TyOqbnaD71/PscmJ5HbR3/hA",
      "include_colab_link": true
    },
    "kernelspec": {
      "name": "python3",
      "display_name": "Python 3"
    },
    "language_info": {
      "name": "python"
    }
  },
  "cells": [
    {
      "cell_type": "markdown",
      "metadata": {
        "id": "view-in-github",
        "colab_type": "text"
      },
      "source": [
        "<a href=\"https://colab.research.google.com/github/NishaB65/Yeast/blob/main/Nisha_B_Patil_Yeast.ipynb\" target=\"_parent\"><img src=\"https://colab.research.google.com/assets/colab-badge.svg\" alt=\"Open In Colab\"/></a>"
      ]
    },
    {
      "cell_type": "code",
      "source": [
        "import pandas as pd\n",
        "\n",
        "# Load Yeast dataset\n",
        "url = 'https://archive.ics.uci.edu/ml/machine-learning-databases/yeast/yeast.data'\n",
        "col_names = ['Sequence Name', 'mcg', 'gvh', 'alm', 'mit', 'erl', 'pox', 'vac', 'nuc', 'class']\n",
        "yeast_df = pd.read_csv(url, header=None, names=col_names, delim_whitespace=True)\n",
        "\n",
        "# Print first 5 instances\n",
        "print(yeast_df.head())"
      ],
      "metadata": {
        "id": "GvaTA10xGJdq",
        "colab": {
          "base_uri": "https://localhost:8080/"
        },
        "outputId": "74bce30c-648f-4373-a5fd-ef7b0b9bf3a3"
      },
      "execution_count": 3,
      "outputs": [
        {
          "output_type": "stream",
          "name": "stdout",
          "text": [
            "  Sequence Name   mcg   gvh   alm   mit  erl  pox   vac   nuc class\n",
            "0    ADT1_YEAST  0.58  0.61  0.47  0.13  0.5  0.0  0.48  0.22   MIT\n",
            "1    ADT2_YEAST  0.43  0.67  0.48  0.27  0.5  0.0  0.53  0.22   MIT\n",
            "2    ADT3_YEAST  0.64  0.62  0.49  0.15  0.5  0.0  0.53  0.22   MIT\n",
            "3    AAR2_YEAST  0.58  0.44  0.57  0.13  0.5  0.0  0.54  0.22   NUC\n",
            "4    AATM_YEAST  0.42  0.44  0.48  0.54  0.5  0.0  0.48  0.22   MIT\n"
          ]
        }
      ]
    },
    {
      "cell_type": "code",
      "execution_count": 5,
      "metadata": {
        "colab": {
          "base_uri": "https://localhost:8080/"
        },
        "id": "kT9RfNf0Cz9K",
        "outputId": "abb7cbd9-88cc-492c-d3a6-6ad0474370e5"
      },
      "outputs": [
        {
          "output_type": "stream",
          "name": "stdout",
          "text": [
            "Accuracy: 0.5353535353535354\n",
            "Confusion matrix:\n",
            "     CYT  ERL  EXC  ME1  ME2  ME3  MIT  NUC  POX  VAC\n",
            "CYT   47    0    2    1    0    3   12   20    0    3\n",
            "ERL    0    0    1    0    0    0    0    0    0    0\n",
            "EXC    0    0    4    1    1    0    2    1    0    0\n",
            "ME1    1    0    3    6    3    0    0    0    0    0\n",
            "ME2    2    0    0    0    2    3    1    0    0    1\n",
            "ME3    1    0    0    0    2   27    1    3    0    1\n",
            "MIT    6    0    1    0    1    4   24   11    2    0\n",
            "NUC   24    0    1    0    0    5    7   48    1    0\n",
            "POX    1    0    1    1    0    0    0    0    1    1\n",
            "VAC    1    0    0    0    0    0    1    0    0    0\n"
          ]
        }
      ],
      "source": [
        "from sklearn.model_selection import train_test_split\n",
        "from sklearn.tree import DecisionTreeClassifier\n",
        "from sklearn.metrics import accuracy_score, confusion_matrix\n",
        "\n",
        "# Split the dataset into train and test sets\n",
        "array = yeast_df.values\n",
        "X = array[:, 1:9]\n",
        "Y = array[:, 9]\n",
        "X_train, X_test, Y_train, Y_test = train_test_split(X, Y, test_size=0.2, random_state=1)\n",
        "\n",
        "# Train a decision tree classifier\n",
        "clf = DecisionTreeClassifier(random_state=1)\n",
        "clf.fit(X_train, Y_train)\n",
        "\n",
        "# Predict the test set labels and evaluate accuracy\n",
        "Y_pred = clf.predict(X_test)\n",
        "accuracy = accuracy_score(Y_test, Y_pred)\n",
        "print('Accuracy:', accuracy)\n",
        "\n",
        "# Print the confusion matrix\n",
        "labels = ['CYT', 'ERL', 'EXC', 'ME1', 'ME2', 'ME3', 'MIT', 'NUC', 'POX', 'VAC']\n",
        "cm = confusion_matrix(Y_test, Y_pred, labels=labels)\n",
        "print('Confusion matrix:')\n",
        "print(pd.DataFrame(cm, index=labels, columns=labels))"
      ]
    }
  ]
}